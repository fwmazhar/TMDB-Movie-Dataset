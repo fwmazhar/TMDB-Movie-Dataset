{
 "cells": [
  {
   "cell_type": "markdown",
   "metadata": {},
   "source": [
    "\n",
    "# Project: Investigate The Dataset - [TMDB Movie Dataset]\n",
    "\n",
    "## Table of Contents\n",
    "<ul>\n",
    "<li><a href=\"#intro\">Introduction</a></li>\n",
    "<li><a href=\"#wrangling\">Data Wrangling</a></li>\n",
    "<li><a href=\"#eda\">Exploratory Data Analysis</a></li>\n",
    "<li><a href=\"#conclusions\">Conclusions</a></li>\n",
    "</ul>"
   ]
  },
  {
   "cell_type": "markdown",
   "metadata": {},
   "source": [
    "<a id='intro'></a>\n",
    "## Introduction\n",
    "\n",
    "### Dataset Description \n",
    "\n",
    "TMDb movie data\n",
    "\n",
    "(cleaned from original data on Kaggle)\n",
    "\n",
    "Overview and notes : \n",
    "\n",
    "This data set contains information about 10,000 movies collected from The Movie Database (TMDb), including user ratings and revenue.\n",
    "\n",
    "Certain columns, like ‘cast’ and ‘genres’, contain multiple values separated by pipe (|) characters.\n",
    "\n",
    "There are some odd characters in the ‘cast’ column.\n",
    "\n",
    "Don’t worry about cleaning them. You can leave them as is.\n",
    "\n",
    "The final two columns ending with “_adj” show the budget and revenue of the associated movie in terms of 2010 dollars, accounting for inflation over time.\n",
    "\n",
    "### Question(s) for Analysis\n",
    "\n",
    "Which genres are most popular from year to year?\n",
    "\n",
    "What kinds of properties are associated with movies that have high revenues?"
   ]
  },
  {
   "cell_type": "code",
   "execution_count": 207,
   "metadata": {},
   "outputs": [],
   "source": [
    "\n",
    "import pandas as pd \n",
    "import numpy as np\n",
    "%matplotlib inline\n",
    "import seaborn as sns\n",
    "import matplotlib.pyplot as plt"
   ]
  },
  {
   "cell_type": "markdown",
   "metadata": {},
   "source": [
    "<a id='wrangling'></a>\n",
    "## Data Wrangling\n",
    "\n",
    "\n",
    "\n",
    "### General Properties\n"
   ]
  },
  {
   "cell_type": "markdown",
   "metadata": {},
   "source": [
    "### Data Assessing\n",
    "\n",
    "number of samples\n",
    "\n",
    "number of columns\n",
    "\n",
    "duplicate rows\n",
    "\n",
    "datatypes of columns\n",
    "\n",
    "features with missing values\n",
    "\n",
    "number of non-null unique values for features t\n",
    "\n",
    "what those unique values are and counts for each"
   ]
  },
  {
   "cell_type": "code",
   "execution_count": 208,
   "metadata": {
    "collapsed": true
   },
   "outputs": [
    {
     "data": {
      "text/html": [
       "<div>\n",
       "<style scoped>\n",
       "    .dataframe tbody tr th:only-of-type {\n",
       "        vertical-align: middle;\n",
       "    }\n",
       "\n",
       "    .dataframe tbody tr th {\n",
       "        vertical-align: top;\n",
       "    }\n",
       "\n",
       "    .dataframe thead th {\n",
       "        text-align: right;\n",
       "    }\n",
       "</style>\n",
       "<table border=\"1\" class=\"dataframe\">\n",
       "  <thead>\n",
       "    <tr style=\"text-align: right;\">\n",
       "      <th></th>\n",
       "      <th>id</th>\n",
       "      <th>imdb_id</th>\n",
       "      <th>popularity</th>\n",
       "      <th>budget</th>\n",
       "      <th>revenue</th>\n",
       "      <th>original_title</th>\n",
       "      <th>cast</th>\n",
       "      <th>homepage</th>\n",
       "      <th>director</th>\n",
       "      <th>tagline</th>\n",
       "      <th>...</th>\n",
       "      <th>overview</th>\n",
       "      <th>runtime</th>\n",
       "      <th>genres</th>\n",
       "      <th>production_companies</th>\n",
       "      <th>release_date</th>\n",
       "      <th>vote_count</th>\n",
       "      <th>vote_average</th>\n",
       "      <th>release_year</th>\n",
       "      <th>budget_adj</th>\n",
       "      <th>revenue_adj</th>\n",
       "    </tr>\n",
       "  </thead>\n",
       "  <tbody>\n",
       "    <tr>\n",
       "      <th>0</th>\n",
       "      <td>135397</td>\n",
       "      <td>tt0369610</td>\n",
       "      <td>32.985763</td>\n",
       "      <td>150000000</td>\n",
       "      <td>1513528810</td>\n",
       "      <td>Jurassic World</td>\n",
       "      <td>Chris Pratt|Bryce Dallas Howard|Irrfan Khan|Vi...</td>\n",
       "      <td>http://www.jurassicworld.com/</td>\n",
       "      <td>Colin Trevorrow</td>\n",
       "      <td>The park is open.</td>\n",
       "      <td>...</td>\n",
       "      <td>Twenty-two years after the events of Jurassic ...</td>\n",
       "      <td>124</td>\n",
       "      <td>Action|Adventure|Science Fiction|Thriller</td>\n",
       "      <td>Universal Studios|Amblin Entertainment|Legenda...</td>\n",
       "      <td>6/9/15</td>\n",
       "      <td>5562</td>\n",
       "      <td>6.5</td>\n",
       "      <td>2015</td>\n",
       "      <td>1.379999e+08</td>\n",
       "      <td>1.392446e+09</td>\n",
       "    </tr>\n",
       "    <tr>\n",
       "      <th>1</th>\n",
       "      <td>76341</td>\n",
       "      <td>tt1392190</td>\n",
       "      <td>28.419936</td>\n",
       "      <td>150000000</td>\n",
       "      <td>378436354</td>\n",
       "      <td>Mad Max: Fury Road</td>\n",
       "      <td>Tom Hardy|Charlize Theron|Hugh Keays-Byrne|Nic...</td>\n",
       "      <td>http://www.madmaxmovie.com/</td>\n",
       "      <td>George Miller</td>\n",
       "      <td>What a Lovely Day.</td>\n",
       "      <td>...</td>\n",
       "      <td>An apocalyptic story set in the furthest reach...</td>\n",
       "      <td>120</td>\n",
       "      <td>Action|Adventure|Science Fiction|Thriller</td>\n",
       "      <td>Village Roadshow Pictures|Kennedy Miller Produ...</td>\n",
       "      <td>5/13/15</td>\n",
       "      <td>6185</td>\n",
       "      <td>7.1</td>\n",
       "      <td>2015</td>\n",
       "      <td>1.379999e+08</td>\n",
       "      <td>3.481613e+08</td>\n",
       "    </tr>\n",
       "    <tr>\n",
       "      <th>2</th>\n",
       "      <td>262500</td>\n",
       "      <td>tt2908446</td>\n",
       "      <td>13.112507</td>\n",
       "      <td>110000000</td>\n",
       "      <td>295238201</td>\n",
       "      <td>Insurgent</td>\n",
       "      <td>Shailene Woodley|Theo James|Kate Winslet|Ansel...</td>\n",
       "      <td>http://www.thedivergentseries.movie/#insurgent</td>\n",
       "      <td>Robert Schwentke</td>\n",
       "      <td>One Choice Can Destroy You</td>\n",
       "      <td>...</td>\n",
       "      <td>Beatrice Prior must confront her inner demons ...</td>\n",
       "      <td>119</td>\n",
       "      <td>Adventure|Science Fiction|Thriller</td>\n",
       "      <td>Summit Entertainment|Mandeville Films|Red Wago...</td>\n",
       "      <td>3/18/15</td>\n",
       "      <td>2480</td>\n",
       "      <td>6.3</td>\n",
       "      <td>2015</td>\n",
       "      <td>1.012000e+08</td>\n",
       "      <td>2.716190e+08</td>\n",
       "    </tr>\n",
       "    <tr>\n",
       "      <th>3</th>\n",
       "      <td>140607</td>\n",
       "      <td>tt2488496</td>\n",
       "      <td>11.173104</td>\n",
       "      <td>200000000</td>\n",
       "      <td>2068178225</td>\n",
       "      <td>Star Wars: The Force Awakens</td>\n",
       "      <td>Harrison Ford|Mark Hamill|Carrie Fisher|Adam D...</td>\n",
       "      <td>http://www.starwars.com/films/star-wars-episod...</td>\n",
       "      <td>J.J. Abrams</td>\n",
       "      <td>Every generation has a story.</td>\n",
       "      <td>...</td>\n",
       "      <td>Thirty years after defeating the Galactic Empi...</td>\n",
       "      <td>136</td>\n",
       "      <td>Action|Adventure|Science Fiction|Fantasy</td>\n",
       "      <td>Lucasfilm|Truenorth Productions|Bad Robot</td>\n",
       "      <td>12/15/15</td>\n",
       "      <td>5292</td>\n",
       "      <td>7.5</td>\n",
       "      <td>2015</td>\n",
       "      <td>1.839999e+08</td>\n",
       "      <td>1.902723e+09</td>\n",
       "    </tr>\n",
       "    <tr>\n",
       "      <th>4</th>\n",
       "      <td>168259</td>\n",
       "      <td>tt2820852</td>\n",
       "      <td>9.335014</td>\n",
       "      <td>190000000</td>\n",
       "      <td>1506249360</td>\n",
       "      <td>Furious 7</td>\n",
       "      <td>Vin Diesel|Paul Walker|Jason Statham|Michelle ...</td>\n",
       "      <td>http://www.furious7.com/</td>\n",
       "      <td>James Wan</td>\n",
       "      <td>Vengeance Hits Home</td>\n",
       "      <td>...</td>\n",
       "      <td>Deckard Shaw seeks revenge against Dominic Tor...</td>\n",
       "      <td>137</td>\n",
       "      <td>Action|Crime|Thriller</td>\n",
       "      <td>Universal Pictures|Original Film|Media Rights ...</td>\n",
       "      <td>4/1/15</td>\n",
       "      <td>2947</td>\n",
       "      <td>7.3</td>\n",
       "      <td>2015</td>\n",
       "      <td>1.747999e+08</td>\n",
       "      <td>1.385749e+09</td>\n",
       "    </tr>\n",
       "  </tbody>\n",
       "</table>\n",
       "<p>5 rows × 21 columns</p>\n",
       "</div>"
      ],
      "text/plain": [
       "       id    imdb_id  popularity     budget     revenue  \\\n",
       "0  135397  tt0369610   32.985763  150000000  1513528810   \n",
       "1   76341  tt1392190   28.419936  150000000   378436354   \n",
       "2  262500  tt2908446   13.112507  110000000   295238201   \n",
       "3  140607  tt2488496   11.173104  200000000  2068178225   \n",
       "4  168259  tt2820852    9.335014  190000000  1506249360   \n",
       "\n",
       "                 original_title  \\\n",
       "0                Jurassic World   \n",
       "1            Mad Max: Fury Road   \n",
       "2                     Insurgent   \n",
       "3  Star Wars: The Force Awakens   \n",
       "4                     Furious 7   \n",
       "\n",
       "                                                cast  \\\n",
       "0  Chris Pratt|Bryce Dallas Howard|Irrfan Khan|Vi...   \n",
       "1  Tom Hardy|Charlize Theron|Hugh Keays-Byrne|Nic...   \n",
       "2  Shailene Woodley|Theo James|Kate Winslet|Ansel...   \n",
       "3  Harrison Ford|Mark Hamill|Carrie Fisher|Adam D...   \n",
       "4  Vin Diesel|Paul Walker|Jason Statham|Michelle ...   \n",
       "\n",
       "                                            homepage          director  \\\n",
       "0                      http://www.jurassicworld.com/   Colin Trevorrow   \n",
       "1                        http://www.madmaxmovie.com/     George Miller   \n",
       "2     http://www.thedivergentseries.movie/#insurgent  Robert Schwentke   \n",
       "3  http://www.starwars.com/films/star-wars-episod...       J.J. Abrams   \n",
       "4                           http://www.furious7.com/         James Wan   \n",
       "\n",
       "                         tagline  ...  \\\n",
       "0              The park is open.  ...   \n",
       "1             What a Lovely Day.  ...   \n",
       "2     One Choice Can Destroy You  ...   \n",
       "3  Every generation has a story.  ...   \n",
       "4            Vengeance Hits Home  ...   \n",
       "\n",
       "                                            overview runtime  \\\n",
       "0  Twenty-two years after the events of Jurassic ...     124   \n",
       "1  An apocalyptic story set in the furthest reach...     120   \n",
       "2  Beatrice Prior must confront her inner demons ...     119   \n",
       "3  Thirty years after defeating the Galactic Empi...     136   \n",
       "4  Deckard Shaw seeks revenge against Dominic Tor...     137   \n",
       "\n",
       "                                      genres  \\\n",
       "0  Action|Adventure|Science Fiction|Thriller   \n",
       "1  Action|Adventure|Science Fiction|Thriller   \n",
       "2         Adventure|Science Fiction|Thriller   \n",
       "3   Action|Adventure|Science Fiction|Fantasy   \n",
       "4                      Action|Crime|Thriller   \n",
       "\n",
       "                                production_companies release_date vote_count  \\\n",
       "0  Universal Studios|Amblin Entertainment|Legenda...       6/9/15       5562   \n",
       "1  Village Roadshow Pictures|Kennedy Miller Produ...      5/13/15       6185   \n",
       "2  Summit Entertainment|Mandeville Films|Red Wago...      3/18/15       2480   \n",
       "3          Lucasfilm|Truenorth Productions|Bad Robot     12/15/15       5292   \n",
       "4  Universal Pictures|Original Film|Media Rights ...       4/1/15       2947   \n",
       "\n",
       "   vote_average  release_year    budget_adj   revenue_adj  \n",
       "0           6.5          2015  1.379999e+08  1.392446e+09  \n",
       "1           7.1          2015  1.379999e+08  3.481613e+08  \n",
       "2           6.3          2015  1.012000e+08  2.716190e+08  \n",
       "3           7.5          2015  1.839999e+08  1.902723e+09  \n",
       "4           7.3          2015  1.747999e+08  1.385749e+09  \n",
       "\n",
       "[5 rows x 21 columns]"
      ]
     },
     "execution_count": 208,
     "metadata": {},
     "output_type": "execute_result"
    }
   ],
   "source": [
    "# Load your data and print out a few lines. Perform operations to inspect data\n",
    "\n",
    "df = pd.read_csv('tmdb-movies-data.csv')\n",
    "df.head()\n",
    "\n"
   ]
  },
  {
   "cell_type": "code",
   "execution_count": 209,
   "metadata": {},
   "outputs": [
    {
     "name": "stdout",
     "output_type": "stream",
     "text": [
      "<class 'pandas.core.frame.DataFrame'>\n",
      "RangeIndex: 10866 entries, 0 to 10865\n",
      "Data columns (total 21 columns):\n",
      " #   Column                Non-Null Count  Dtype  \n",
      "---  ------                --------------  -----  \n",
      " 0   id                    10866 non-null  int64  \n",
      " 1   imdb_id               10856 non-null  object \n",
      " 2   popularity            10866 non-null  float64\n",
      " 3   budget                10866 non-null  int64  \n",
      " 4   revenue               10866 non-null  int64  \n",
      " 5   original_title        10866 non-null  object \n",
      " 6   cast                  10790 non-null  object \n",
      " 7   homepage              2936 non-null   object \n",
      " 8   director              10822 non-null  object \n",
      " 9   tagline               8042 non-null   object \n",
      " 10  keywords              9373 non-null   object \n",
      " 11  overview              10862 non-null  object \n",
      " 12  runtime               10866 non-null  int64  \n",
      " 13  genres                10843 non-null  object \n",
      " 14  production_companies  9836 non-null   object \n",
      " 15  release_date          10866 non-null  object \n",
      " 16  vote_count            10866 non-null  int64  \n",
      " 17  vote_average          10866 non-null  float64\n",
      " 18  release_year          10866 non-null  int64  \n",
      " 19  budget_adj            10866 non-null  float64\n",
      " 20  revenue_adj           10866 non-null  float64\n",
      "dtypes: float64(4), int64(6), object(11)\n",
      "memory usage: 1.7+ MB\n"
     ]
    }
   ],
   "source": [
    "df.info()"
   ]
  },
  {
   "cell_type": "code",
   "execution_count": 210,
   "metadata": {},
   "outputs": [
    {
     "data": {
      "text/plain": [
       "(10866, 21)"
      ]
     },
     "execution_count": 210,
     "metadata": {},
     "output_type": "execute_result"
    }
   ],
   "source": [
    "df.shape"
   ]
  },
  {
   "cell_type": "code",
   "execution_count": 211,
   "metadata": {},
   "outputs": [
    {
     "data": {
      "text/plain": [
       "1"
      ]
     },
     "execution_count": 211,
     "metadata": {},
     "output_type": "execute_result"
    }
   ],
   "source": [
    "df.duplicated().sum()\n"
   ]
  },
  {
   "cell_type": "code",
   "execution_count": 212,
   "metadata": {},
   "outputs": [
    {
     "data": {
      "text/plain": [
       "id                         0\n",
       "imdb_id                   10\n",
       "popularity                 0\n",
       "budget                     0\n",
       "revenue                    0\n",
       "original_title             0\n",
       "cast                      76\n",
       "homepage                7930\n",
       "director                  44\n",
       "tagline                 2824\n",
       "keywords                1493\n",
       "overview                   4\n",
       "runtime                    0\n",
       "genres                    23\n",
       "production_companies    1030\n",
       "release_date               0\n",
       "vote_count                 0\n",
       "vote_average               0\n",
       "release_year               0\n",
       "budget_adj                 0\n",
       "revenue_adj                0\n",
       "dtype: int64"
      ]
     },
     "execution_count": 212,
     "metadata": {},
     "output_type": "execute_result"
    }
   ],
   "source": [
    "df.isnull().sum()\n"
   ]
  },
  {
   "cell_type": "code",
   "execution_count": 213,
   "metadata": {},
   "outputs": [
    {
     "data": {
      "text/plain": [
       "id                      10865\n",
       "imdb_id                 10855\n",
       "popularity              10814\n",
       "budget                    557\n",
       "revenue                  4702\n",
       "original_title          10571\n",
       "cast                    10719\n",
       "homepage                 2896\n",
       "director                 5067\n",
       "tagline                  7997\n",
       "keywords                 8804\n",
       "overview                10847\n",
       "runtime                   247\n",
       "genres                   2039\n",
       "production_companies     7445\n",
       "release_date             5909\n",
       "vote_count               1289\n",
       "vote_average               72\n",
       "release_year               56\n",
       "budget_adj               2614\n",
       "revenue_adj              4840\n",
       "dtype: int64"
      ]
     },
     "execution_count": 213,
     "metadata": {},
     "output_type": "execute_result"
    }
   ],
   "source": [
    "df.nunique()\n"
   ]
  },
  {
   "cell_type": "markdown",
   "metadata": {},
   "source": [
    "\n",
    "### Data Cleaning\n",
    "\n",
    "Here I will preform some tasks to clean the data \n",
    "\n",
    "First: dropping the Extraneous Columns as i wont be using them in my analysis\n",
    "\n",
    "second: dropping the duplicates\n",
    " \n",
    "Third : dropping the null values\n",
    "\n"
   ]
  },
  {
   "cell_type": "markdown",
   "metadata": {},
   "source": [
    "Dropping the Extraneous Columns as i wont be using them in my analysis\n"
   ]
  },
  {
   "cell_type": "code",
   "execution_count": 214,
   "metadata": {},
   "outputs": [
    {
     "data": {
      "text/html": [
       "<div>\n",
       "<style scoped>\n",
       "    .dataframe tbody tr th:only-of-type {\n",
       "        vertical-align: middle;\n",
       "    }\n",
       "\n",
       "    .dataframe tbody tr th {\n",
       "        vertical-align: top;\n",
       "    }\n",
       "\n",
       "    .dataframe thead th {\n",
       "        text-align: right;\n",
       "    }\n",
       "</style>\n",
       "<table border=\"1\" class=\"dataframe\">\n",
       "  <thead>\n",
       "    <tr style=\"text-align: right;\">\n",
       "      <th></th>\n",
       "      <th>popularity</th>\n",
       "      <th>original_title</th>\n",
       "      <th>cast</th>\n",
       "      <th>director</th>\n",
       "      <th>runtime</th>\n",
       "      <th>genres</th>\n",
       "      <th>production_companies</th>\n",
       "      <th>release_date</th>\n",
       "      <th>vote_count</th>\n",
       "      <th>vote_average</th>\n",
       "      <th>release_year</th>\n",
       "      <th>budget_adj</th>\n",
       "      <th>revenue_adj</th>\n",
       "    </tr>\n",
       "  </thead>\n",
       "  <tbody>\n",
       "    <tr>\n",
       "      <th>0</th>\n",
       "      <td>32.985763</td>\n",
       "      <td>Jurassic World</td>\n",
       "      <td>Chris Pratt|Bryce Dallas Howard|Irrfan Khan|Vi...</td>\n",
       "      <td>Colin Trevorrow</td>\n",
       "      <td>124</td>\n",
       "      <td>Action|Adventure|Science Fiction|Thriller</td>\n",
       "      <td>Universal Studios|Amblin Entertainment|Legenda...</td>\n",
       "      <td>6/9/15</td>\n",
       "      <td>5562</td>\n",
       "      <td>6.5</td>\n",
       "      <td>2015</td>\n",
       "      <td>1.379999e+08</td>\n",
       "      <td>1.392446e+09</td>\n",
       "    </tr>\n",
       "  </tbody>\n",
       "</table>\n",
       "</div>"
      ],
      "text/plain": [
       "   popularity  original_title  \\\n",
       "0   32.985763  Jurassic World   \n",
       "\n",
       "                                                cast         director  \\\n",
       "0  Chris Pratt|Bryce Dallas Howard|Irrfan Khan|Vi...  Colin Trevorrow   \n",
       "\n",
       "   runtime                                     genres  \\\n",
       "0      124  Action|Adventure|Science Fiction|Thriller   \n",
       "\n",
       "                                production_companies release_date  vote_count  \\\n",
       "0  Universal Studios|Amblin Entertainment|Legenda...       6/9/15        5562   \n",
       "\n",
       "   vote_average  release_year    budget_adj   revenue_adj  \n",
       "0           6.5          2015  1.379999e+08  1.392446e+09  "
      ]
     },
     "execution_count": 214,
     "metadata": {},
     "output_type": "execute_result"
    }
   ],
   "source": [
    "# drop columns from the dataset\n",
    "df.drop(['id', 'imdb_id', 'homepage','tagline','overview','keywords','budget','revenue'],axis = 1 , inplace = True )\n",
    "\n",
    "# confirm changes\n",
    "df.head(1)"
   ]
  },
  {
   "cell_type": "markdown",
   "metadata": {},
   "source": [
    "Dropping the duplicates"
   ]
  },
  {
   "cell_type": "code",
   "execution_count": 215,
   "metadata": {},
   "outputs": [
    {
     "name": "stdout",
     "output_type": "stream",
     "text": [
      "0\n"
     ]
    }
   ],
   "source": [
    "df.drop_duplicates(inplace=True)\n",
    "# print number of duplicates again to confirm dedupe - should both be 0\n",
    "print(df.duplicated().sum())"
   ]
  },
  {
   "cell_type": "markdown",
   "metadata": {},
   "source": [
    "dropping the null values"
   ]
  },
  {
   "cell_type": "code",
   "execution_count": 216,
   "metadata": {},
   "outputs": [
    {
     "data": {
      "text/plain": [
       "popularity                 0\n",
       "original_title             0\n",
       "cast                      76\n",
       "director                  44\n",
       "runtime                    0\n",
       "genres                    23\n",
       "production_companies    1030\n",
       "release_date               0\n",
       "vote_count                 0\n",
       "vote_average               0\n",
       "release_year               0\n",
       "budget_adj                 0\n",
       "revenue_adj                0\n",
       "dtype: int64"
      ]
     },
     "execution_count": 216,
     "metadata": {},
     "output_type": "execute_result"
    }
   ],
   "source": [
    "df.isnull().sum()"
   ]
  },
  {
   "cell_type": "code",
   "execution_count": 217,
   "metadata": {},
   "outputs": [],
   "source": [
    "df.dropna(inplace=True)"
   ]
  },
  {
   "cell_type": "code",
   "execution_count": 218,
   "metadata": {},
   "outputs": [
    {
     "data": {
      "text/plain": [
       "False"
      ]
     },
     "execution_count": 218,
     "metadata": {},
     "output_type": "execute_result"
    }
   ],
   "source": [
    "# checks if any of columns have null values - should print False\n",
    "df.isnull().sum().any()"
   ]
  },
  {
   "cell_type": "code",
   "execution_count": 219,
   "metadata": {},
   "outputs": [
    {
     "name": "stdout",
     "output_type": "stream",
     "text": [
      "<class 'pandas.core.frame.DataFrame'>\n",
      "Int64Index: 9772 entries, 0 to 10865\n",
      "Data columns (total 13 columns):\n",
      " #   Column                Non-Null Count  Dtype  \n",
      "---  ------                --------------  -----  \n",
      " 0   popularity            9772 non-null   float64\n",
      " 1   original_title        9772 non-null   object \n",
      " 2   cast                  9772 non-null   object \n",
      " 3   director              9772 non-null   object \n",
      " 4   runtime               9772 non-null   int64  \n",
      " 5   genres                9772 non-null   object \n",
      " 6   production_companies  9772 non-null   object \n",
      " 7   release_date          9772 non-null   object \n",
      " 8   vote_count            9772 non-null   int64  \n",
      " 9   vote_average          9772 non-null   float64\n",
      " 10  release_year          9772 non-null   int64  \n",
      " 11  budget_adj            9772 non-null   float64\n",
      " 12  revenue_adj           9772 non-null   float64\n",
      "dtypes: float64(4), int64(3), object(6)\n",
      "memory usage: 1.0+ MB\n"
     ]
    }
   ],
   "source": [
    "df.info()"
   ]
  },
  {
   "cell_type": "code",
   "execution_count": 220,
   "metadata": {},
   "outputs": [
    {
     "data": {
      "text/html": [
       "<div>\n",
       "<style scoped>\n",
       "    .dataframe tbody tr th:only-of-type {\n",
       "        vertical-align: middle;\n",
       "    }\n",
       "\n",
       "    .dataframe tbody tr th {\n",
       "        vertical-align: top;\n",
       "    }\n",
       "\n",
       "    .dataframe thead th {\n",
       "        text-align: right;\n",
       "    }\n",
       "</style>\n",
       "<table border=\"1\" class=\"dataframe\">\n",
       "  <thead>\n",
       "    <tr style=\"text-align: right;\">\n",
       "      <th></th>\n",
       "      <th>popularity</th>\n",
       "      <th>original_title</th>\n",
       "      <th>cast</th>\n",
       "      <th>director</th>\n",
       "      <th>runtime</th>\n",
       "      <th>genres</th>\n",
       "      <th>production_companies</th>\n",
       "      <th>release_date</th>\n",
       "      <th>vote_count</th>\n",
       "      <th>vote_average</th>\n",
       "      <th>release_year</th>\n",
       "      <th>budget_adj</th>\n",
       "      <th>revenue_adj</th>\n",
       "    </tr>\n",
       "  </thead>\n",
       "  <tbody>\n",
       "    <tr>\n",
       "      <th>0</th>\n",
       "      <td>32.985763</td>\n",
       "      <td>Jurassic World</td>\n",
       "      <td>Chris Pratt|Bryce Dallas Howard|Irrfan Khan|Vi...</td>\n",
       "      <td>Colin Trevorrow</td>\n",
       "      <td>124</td>\n",
       "      <td>Action|Adventure|Science Fiction|Thriller</td>\n",
       "      <td>Universal Studios|Amblin Entertainment|Legenda...</td>\n",
       "      <td>6/9/15</td>\n",
       "      <td>5562</td>\n",
       "      <td>6.5</td>\n",
       "      <td>2015</td>\n",
       "      <td>1.379999e+08</td>\n",
       "      <td>1.392446e+09</td>\n",
       "    </tr>\n",
       "  </tbody>\n",
       "</table>\n",
       "</div>"
      ],
      "text/plain": [
       "   popularity  original_title  \\\n",
       "0   32.985763  Jurassic World   \n",
       "\n",
       "                                                cast         director  \\\n",
       "0  Chris Pratt|Bryce Dallas Howard|Irrfan Khan|Vi...  Colin Trevorrow   \n",
       "\n",
       "   runtime                                     genres  \\\n",
       "0      124  Action|Adventure|Science Fiction|Thriller   \n",
       "\n",
       "                                production_companies release_date  vote_count  \\\n",
       "0  Universal Studios|Amblin Entertainment|Legenda...       6/9/15        5562   \n",
       "\n",
       "   vote_average  release_year    budget_adj   revenue_adj  \n",
       "0           6.5          2015  1.379999e+08  1.392446e+09  "
      ]
     },
     "execution_count": 220,
     "metadata": {},
     "output_type": "execute_result"
    }
   ],
   "source": [
    "df.head(1)"
   ]
  },
  {
   "cell_type": "markdown",
   "metadata": {},
   "source": [
    "Here there are more than one col which has several value : for example the genres , cast and production_companies colmuns \n",
    "\n",
    "i will split each of genres , cast and production companies and take the first value of the split as the main value of the col"
   ]
  },
  {
   "cell_type": "code",
   "execution_count": 221,
   "metadata": {},
   "outputs": [],
   "source": [
    "df['main_genre']=df.genres.str.split(pat='|',expand=True)[0]\n",
    "\n",
    "df['main_actor']=df.cast.str.split(pat='|',expand=True)[0]\n",
    "\n",
    "df['main_production_company']=df.production_companies.str.split(pat='|',expand=True)[0]"
   ]
  },
  {
   "cell_type": "code",
   "execution_count": 222,
   "metadata": {},
   "outputs": [],
   "source": [
    "df.drop(['genres','production_companies','cast'], axis=1, inplace=True)\n"
   ]
  },
  {
   "cell_type": "code",
   "execution_count": 223,
   "metadata": {},
   "outputs": [],
   "source": [
    "df['profit']=df.revenue_adj-df.budget_adj\n"
   ]
  },
  {
   "cell_type": "code",
   "execution_count": 224,
   "metadata": {},
   "outputs": [],
   "source": [
    "# To convert the release data col in order to extract the month from it \n",
    "df.release_date=pd.to_datetime(df.release_date)\n"
   ]
  },
  {
   "cell_type": "code",
   "execution_count": 225,
   "metadata": {},
   "outputs": [],
   "source": [
    "\n",
    "#This is to extract year from the release_date col\n",
    "df['month'] = pd.DatetimeIndex(df['release_date']).month"
   ]
  },
  {
   "cell_type": "code",
   "execution_count": 226,
   "metadata": {},
   "outputs": [
    {
     "data": {
      "text/html": [
       "<div>\n",
       "<style scoped>\n",
       "    .dataframe tbody tr th:only-of-type {\n",
       "        vertical-align: middle;\n",
       "    }\n",
       "\n",
       "    .dataframe tbody tr th {\n",
       "        vertical-align: top;\n",
       "    }\n",
       "\n",
       "    .dataframe thead th {\n",
       "        text-align: right;\n",
       "    }\n",
       "</style>\n",
       "<table border=\"1\" class=\"dataframe\">\n",
       "  <thead>\n",
       "    <tr style=\"text-align: right;\">\n",
       "      <th></th>\n",
       "      <th>popularity</th>\n",
       "      <th>original_title</th>\n",
       "      <th>director</th>\n",
       "      <th>runtime</th>\n",
       "      <th>release_date</th>\n",
       "      <th>vote_count</th>\n",
       "      <th>vote_average</th>\n",
       "      <th>release_year</th>\n",
       "      <th>budget_adj</th>\n",
       "      <th>revenue_adj</th>\n",
       "      <th>main_genre</th>\n",
       "      <th>main_actor</th>\n",
       "      <th>main_production_company</th>\n",
       "      <th>profit</th>\n",
       "      <th>month</th>\n",
       "    </tr>\n",
       "  </thead>\n",
       "  <tbody>\n",
       "    <tr>\n",
       "      <th>0</th>\n",
       "      <td>32.985763</td>\n",
       "      <td>Jurassic World</td>\n",
       "      <td>Colin Trevorrow</td>\n",
       "      <td>124</td>\n",
       "      <td>2015-06-09</td>\n",
       "      <td>5562</td>\n",
       "      <td>6.5</td>\n",
       "      <td>2015</td>\n",
       "      <td>1.379999e+08</td>\n",
       "      <td>1.392446e+09</td>\n",
       "      <td>Action</td>\n",
       "      <td>Chris Pratt</td>\n",
       "      <td>Universal Studios</td>\n",
       "      <td>1.254446e+09</td>\n",
       "      <td>6</td>\n",
       "    </tr>\n",
       "    <tr>\n",
       "      <th>1</th>\n",
       "      <td>28.419936</td>\n",
       "      <td>Mad Max: Fury Road</td>\n",
       "      <td>George Miller</td>\n",
       "      <td>120</td>\n",
       "      <td>2015-05-13</td>\n",
       "      <td>6185</td>\n",
       "      <td>7.1</td>\n",
       "      <td>2015</td>\n",
       "      <td>1.379999e+08</td>\n",
       "      <td>3.481613e+08</td>\n",
       "      <td>Action</td>\n",
       "      <td>Tom Hardy</td>\n",
       "      <td>Village Roadshow Pictures</td>\n",
       "      <td>2.101614e+08</td>\n",
       "      <td>5</td>\n",
       "    </tr>\n",
       "  </tbody>\n",
       "</table>\n",
       "</div>"
      ],
      "text/plain": [
       "   popularity      original_title         director  runtime release_date  \\\n",
       "0   32.985763      Jurassic World  Colin Trevorrow      124   2015-06-09   \n",
       "1   28.419936  Mad Max: Fury Road    George Miller      120   2015-05-13   \n",
       "\n",
       "   vote_count  vote_average  release_year    budget_adj   revenue_adj  \\\n",
       "0        5562           6.5          2015  1.379999e+08  1.392446e+09   \n",
       "1        6185           7.1          2015  1.379999e+08  3.481613e+08   \n",
       "\n",
       "  main_genre   main_actor    main_production_company        profit  month  \n",
       "0     Action  Chris Pratt          Universal Studios  1.254446e+09      6  \n",
       "1     Action    Tom Hardy  Village Roadshow Pictures  2.101614e+08      5  "
      ]
     },
     "execution_count": 226,
     "metadata": {},
     "output_type": "execute_result"
    }
   ],
   "source": [
    "df.head(2)\n"
   ]
  },
  {
   "cell_type": "code",
   "execution_count": 227,
   "metadata": {},
   "outputs": [
    {
     "data": {
      "text/html": [
       "<div>\n",
       "<style scoped>\n",
       "    .dataframe tbody tr th:only-of-type {\n",
       "        vertical-align: middle;\n",
       "    }\n",
       "\n",
       "    .dataframe tbody tr th {\n",
       "        vertical-align: top;\n",
       "    }\n",
       "\n",
       "    .dataframe thead th {\n",
       "        text-align: right;\n",
       "    }\n",
       "</style>\n",
       "<table border=\"1\" class=\"dataframe\">\n",
       "  <thead>\n",
       "    <tr style=\"text-align: right;\">\n",
       "      <th></th>\n",
       "      <th>popularity</th>\n",
       "      <th>runtime</th>\n",
       "      <th>vote_count</th>\n",
       "      <th>vote_average</th>\n",
       "      <th>release_year</th>\n",
       "      <th>budget_adj</th>\n",
       "      <th>revenue_adj</th>\n",
       "      <th>profit</th>\n",
       "      <th>month</th>\n",
       "    </tr>\n",
       "  </thead>\n",
       "  <tbody>\n",
       "    <tr>\n",
       "      <th>count</th>\n",
       "      <td>9772.000000</td>\n",
       "      <td>9772.000000</td>\n",
       "      <td>9772.000000</td>\n",
       "      <td>9772.000000</td>\n",
       "      <td>9772.000000</td>\n",
       "      <td>9.772000e+03</td>\n",
       "      <td>9.772000e+03</td>\n",
       "      <td>9.772000e+03</td>\n",
       "      <td>9772.000000</td>\n",
       "    </tr>\n",
       "    <tr>\n",
       "      <th>mean</th>\n",
       "      <td>0.694721</td>\n",
       "      <td>102.926627</td>\n",
       "      <td>239.312014</td>\n",
       "      <td>5.963528</td>\n",
       "      <td>2000.878428</td>\n",
       "      <td>1.941599e+07</td>\n",
       "      <td>5.705309e+07</td>\n",
       "      <td>3.763710e+07</td>\n",
       "      <td>6.875358</td>\n",
       "    </tr>\n",
       "    <tr>\n",
       "      <th>std</th>\n",
       "      <td>1.036931</td>\n",
       "      <td>27.877432</td>\n",
       "      <td>603.011504</td>\n",
       "      <td>0.913174</td>\n",
       "      <td>13.036794</td>\n",
       "      <td>3.566634e+07</td>\n",
       "      <td>1.514499e+08</td>\n",
       "      <td>1.314756e+08</td>\n",
       "      <td>3.410691</td>\n",
       "    </tr>\n",
       "    <tr>\n",
       "      <th>min</th>\n",
       "      <td>0.000188</td>\n",
       "      <td>0.000000</td>\n",
       "      <td>10.000000</td>\n",
       "      <td>1.500000</td>\n",
       "      <td>1960.000000</td>\n",
       "      <td>0.000000e+00</td>\n",
       "      <td>0.000000e+00</td>\n",
       "      <td>-4.139124e+08</td>\n",
       "      <td>1.000000</td>\n",
       "    </tr>\n",
       "    <tr>\n",
       "      <th>25%</th>\n",
       "      <td>0.232710</td>\n",
       "      <td>90.000000</td>\n",
       "      <td>18.000000</td>\n",
       "      <td>5.400000</td>\n",
       "      <td>1994.000000</td>\n",
       "      <td>0.000000e+00</td>\n",
       "      <td>0.000000e+00</td>\n",
       "      <td>0.000000e+00</td>\n",
       "      <td>4.000000</td>\n",
       "    </tr>\n",
       "    <tr>\n",
       "      <th>50%</th>\n",
       "      <td>0.419762</td>\n",
       "      <td>100.000000</td>\n",
       "      <td>46.000000</td>\n",
       "      <td>6.000000</td>\n",
       "      <td>2005.000000</td>\n",
       "      <td>3.061342e+05</td>\n",
       "      <td>0.000000e+00</td>\n",
       "      <td>0.000000e+00</td>\n",
       "      <td>7.000000</td>\n",
       "    </tr>\n",
       "    <tr>\n",
       "      <th>75%</th>\n",
       "      <td>0.776408</td>\n",
       "      <td>112.000000</td>\n",
       "      <td>173.000000</td>\n",
       "      <td>6.600000</td>\n",
       "      <td>2011.000000</td>\n",
       "      <td>2.464268e+07</td>\n",
       "      <td>4.311848e+07</td>\n",
       "      <td>2.029698e+07</td>\n",
       "      <td>10.000000</td>\n",
       "    </tr>\n",
       "    <tr>\n",
       "      <th>max</th>\n",
       "      <td>32.985763</td>\n",
       "      <td>877.000000</td>\n",
       "      <td>9767.000000</td>\n",
       "      <td>8.700000</td>\n",
       "      <td>2015.000000</td>\n",
       "      <td>4.250000e+08</td>\n",
       "      <td>2.827124e+09</td>\n",
       "      <td>2.750137e+09</td>\n",
       "      <td>12.000000</td>\n",
       "    </tr>\n",
       "  </tbody>\n",
       "</table>\n",
       "</div>"
      ],
      "text/plain": [
       "        popularity      runtime   vote_count  vote_average  release_year  \\\n",
       "count  9772.000000  9772.000000  9772.000000   9772.000000   9772.000000   \n",
       "mean      0.694721   102.926627   239.312014      5.963528   2000.878428   \n",
       "std       1.036931    27.877432   603.011504      0.913174     13.036794   \n",
       "min       0.000188     0.000000    10.000000      1.500000   1960.000000   \n",
       "25%       0.232710    90.000000    18.000000      5.400000   1994.000000   \n",
       "50%       0.419762   100.000000    46.000000      6.000000   2005.000000   \n",
       "75%       0.776408   112.000000   173.000000      6.600000   2011.000000   \n",
       "max      32.985763   877.000000  9767.000000      8.700000   2015.000000   \n",
       "\n",
       "         budget_adj   revenue_adj        profit        month  \n",
       "count  9.772000e+03  9.772000e+03  9.772000e+03  9772.000000  \n",
       "mean   1.941599e+07  5.705309e+07  3.763710e+07     6.875358  \n",
       "std    3.566634e+07  1.514499e+08  1.314756e+08     3.410691  \n",
       "min    0.000000e+00  0.000000e+00 -4.139124e+08     1.000000  \n",
       "25%    0.000000e+00  0.000000e+00  0.000000e+00     4.000000  \n",
       "50%    3.061342e+05  0.000000e+00  0.000000e+00     7.000000  \n",
       "75%    2.464268e+07  4.311848e+07  2.029698e+07    10.000000  \n",
       "max    4.250000e+08  2.827124e+09  2.750137e+09    12.000000  "
      ]
     },
     "execution_count": 227,
     "metadata": {},
     "output_type": "execute_result"
    }
   ],
   "source": [
    "df.describe()\n"
   ]
  },
  {
   "cell_type": "markdown",
   "metadata": {},
   "source": [
    "ok here i will organize the profit col as i want to know which will be considered as a high profit or low\n",
    "\n"
   ]
  },
  {
   "cell_type": "code",
   "execution_count": 228,
   "metadata": {},
   "outputs": [
    {
     "data": {
      "text/plain": [
       "count    9.772000e+03\n",
       "mean     3.763710e+07\n",
       "std      1.314756e+08\n",
       "min     -4.139124e+08\n",
       "25%      0.000000e+00\n",
       "50%      0.000000e+00\n",
       "75%      2.029698e+07\n",
       "max      2.750137e+09\n",
       "Name: profit, dtype: float64"
      ]
     },
     "execution_count": 228,
     "metadata": {},
     "output_type": "execute_result"
    }
   ],
   "source": [
    "df['profit'].describe()"
   ]
  },
  {
   "cell_type": "markdown",
   "metadata": {},
   "source": [
    "as we see we have a problem here which is that we find that that many movies have the value \"0\" in the revenue_adj and the budget_adj columns the profit is also not accurate as a result. These rows needs to be dropped"
   ]
  },
  {
   "cell_type": "code",
   "execution_count": 229,
   "metadata": {},
   "outputs": [
    {
     "data": {
      "text/plain": [
       "(3805, 15)"
      ]
     },
     "execution_count": 229,
     "metadata": {},
     "output_type": "execute_result"
    }
   ],
   "source": [
    "# rz stands for remove zeros\n",
    "\n",
    "df_rz = df.query('budget_adj != 0 and revenue_adj != 0 ')\n",
    "df_rz.shape\n",
    "\n"
   ]
  },
  {
   "cell_type": "code",
   "execution_count": 230,
   "metadata": {},
   "outputs": [
    {
     "data": {
      "text/plain": [
       "count    3.805000e+03\n",
       "mean     9.399617e+07\n",
       "std      1.950332e+08\n",
       "min     -4.139124e+08\n",
       "25%     -1.420000e+06\n",
       "50%      2.851334e+07\n",
       "75%      1.090266e+08\n",
       "max      2.750137e+09\n",
       "Name: profit, dtype: float64"
      ]
     },
     "execution_count": 230,
     "metadata": {},
     "output_type": "execute_result"
    }
   ],
   "source": [
    "df_rz.describe()['profit']\n"
   ]
  },
  {
   "cell_type": "markdown",
   "metadata": {},
   "source": [
    "here i will make a function to create levels for a desired column\n",
    "\n"
   ]
  },
  {
   "cell_type": "code",
   "execution_count": 231,
   "metadata": {},
   "outputs": [],
   "source": [
    "def col_levels(df,col_name,bin_names):\n",
    "    bins_edges = []\n",
    "    for i in df.describe()[col_name]:\n",
    "        bins_edges.append(i)\n",
    "\n",
    "    bins_edges = bins_edges[3:]\n",
    "\n",
    "    # Labels for the four acidity level groups\n",
    "\n",
    "    df[col_name+ '_levels'] = pd.cut(df[col_name], bins_edges, labels=bin_names)\n",
    "\n",
    "    return df"
   ]
  },
  {
   "cell_type": "code",
   "execution_count": 232,
   "metadata": {},
   "outputs": [
    {
     "name": "stderr",
     "output_type": "stream",
     "text": [
      "C:\\Users\\dell\\AppData\\Local\\Temp\\ipykernel_3868\\3297631212.py:10: SettingWithCopyWarning: \n",
      "A value is trying to be set on a copy of a slice from a DataFrame.\n",
      "Try using .loc[row_indexer,col_indexer] = value instead\n",
      "\n",
      "See the caveats in the documentation: https://pandas.pydata.org/pandas-docs/stable/user_guide/indexing.html#returning-a-view-versus-a-copy\n",
      "  df[col_name+ '_levels'] = pd.cut(df[col_name], bins_edges, labels=bin_names)\n"
     ]
    },
    {
     "data": {
      "text/html": [
       "<div>\n",
       "<style scoped>\n",
       "    .dataframe tbody tr th:only-of-type {\n",
       "        vertical-align: middle;\n",
       "    }\n",
       "\n",
       "    .dataframe tbody tr th {\n",
       "        vertical-align: top;\n",
       "    }\n",
       "\n",
       "    .dataframe thead th {\n",
       "        text-align: right;\n",
       "    }\n",
       "</style>\n",
       "<table border=\"1\" class=\"dataframe\">\n",
       "  <thead>\n",
       "    <tr style=\"text-align: right;\">\n",
       "      <th></th>\n",
       "      <th>popularity</th>\n",
       "      <th>original_title</th>\n",
       "      <th>director</th>\n",
       "      <th>runtime</th>\n",
       "      <th>release_date</th>\n",
       "      <th>vote_count</th>\n",
       "      <th>vote_average</th>\n",
       "      <th>release_year</th>\n",
       "      <th>budget_adj</th>\n",
       "      <th>revenue_adj</th>\n",
       "      <th>main_genre</th>\n",
       "      <th>main_actor</th>\n",
       "      <th>main_production_company</th>\n",
       "      <th>profit</th>\n",
       "      <th>month</th>\n",
       "      <th>profit_levels</th>\n",
       "    </tr>\n",
       "  </thead>\n",
       "  <tbody>\n",
       "    <tr>\n",
       "      <th>0</th>\n",
       "      <td>32.985763</td>\n",
       "      <td>Jurassic World</td>\n",
       "      <td>Colin Trevorrow</td>\n",
       "      <td>124</td>\n",
       "      <td>2015-06-09</td>\n",
       "      <td>5562</td>\n",
       "      <td>6.5</td>\n",
       "      <td>2015</td>\n",
       "      <td>1.379999e+08</td>\n",
       "      <td>1.392446e+09</td>\n",
       "      <td>Action</td>\n",
       "      <td>Chris Pratt</td>\n",
       "      <td>Universal Studios</td>\n",
       "      <td>1.254446e+09</td>\n",
       "      <td>6</td>\n",
       "      <td>High</td>\n",
       "    </tr>\n",
       "    <tr>\n",
       "      <th>1</th>\n",
       "      <td>28.419936</td>\n",
       "      <td>Mad Max: Fury Road</td>\n",
       "      <td>George Miller</td>\n",
       "      <td>120</td>\n",
       "      <td>2015-05-13</td>\n",
       "      <td>6185</td>\n",
       "      <td>7.1</td>\n",
       "      <td>2015</td>\n",
       "      <td>1.379999e+08</td>\n",
       "      <td>3.481613e+08</td>\n",
       "      <td>Action</td>\n",
       "      <td>Tom Hardy</td>\n",
       "      <td>Village Roadshow Pictures</td>\n",
       "      <td>2.101614e+08</td>\n",
       "      <td>5</td>\n",
       "      <td>High</td>\n",
       "    </tr>\n",
       "  </tbody>\n",
       "</table>\n",
       "</div>"
      ],
      "text/plain": [
       "   popularity      original_title         director  runtime release_date  \\\n",
       "0   32.985763      Jurassic World  Colin Trevorrow      124   2015-06-09   \n",
       "1   28.419936  Mad Max: Fury Road    George Miller      120   2015-05-13   \n",
       "\n",
       "   vote_count  vote_average  release_year    budget_adj   revenue_adj  \\\n",
       "0        5562           6.5          2015  1.379999e+08  1.392446e+09   \n",
       "1        6185           7.1          2015  1.379999e+08  3.481613e+08   \n",
       "\n",
       "  main_genre   main_actor    main_production_company        profit  month  \\\n",
       "0     Action  Chris Pratt          Universal Studios  1.254446e+09      6   \n",
       "1     Action    Tom Hardy  Village Roadshow Pictures  2.101614e+08      5   \n",
       "\n",
       "  profit_levels  \n",
       "0          High  \n",
       "1          High  "
      ]
     },
     "execution_count": 232,
     "metadata": {},
     "output_type": "execute_result"
    }
   ],
   "source": [
    "bin_names = ['extreem loss','loss','mid','High' ]\n",
    "df_rz = col_levels(df_rz,'profit',bin_names)\n",
    "df_rz.head(2)\n"
   ]
  },
  {
   "cell_type": "code",
   "execution_count": 233,
   "metadata": {},
   "outputs": [
    {
     "data": {
      "text/plain": [
       "count    3.805000e+03\n",
       "mean     9.399617e+07\n",
       "std      1.950332e+08\n",
       "min     -4.139124e+08\n",
       "25%     -1.420000e+06\n",
       "50%      2.851334e+07\n",
       "75%      1.090266e+08\n",
       "max      2.750137e+09\n",
       "Name: profit, dtype: float64"
      ]
     },
     "execution_count": 233,
     "metadata": {},
     "output_type": "execute_result"
    }
   ],
   "source": [
    "df_rz.describe()['profit']"
   ]
  },
  {
   "cell_type": "code",
   "execution_count": 234,
   "metadata": {},
   "outputs": [
    {
     "data": {
      "text/plain": [
       "count    9772.000000\n",
       "mean        0.694721\n",
       "std         1.036931\n",
       "min         0.000188\n",
       "25%         0.232710\n",
       "50%         0.419762\n",
       "75%         0.776408\n",
       "max        32.985763\n",
       "Name: popularity, dtype: float64"
      ]
     },
     "execution_count": 234,
     "metadata": {},
     "output_type": "execute_result"
    }
   ],
   "source": [
    "df.describe()['popularity']"
   ]
  },
  {
   "cell_type": "code",
   "execution_count": 235,
   "metadata": {},
   "outputs": [
    {
     "data": {
      "text/html": [
       "<div>\n",
       "<style scoped>\n",
       "    .dataframe tbody tr th:only-of-type {\n",
       "        vertical-align: middle;\n",
       "    }\n",
       "\n",
       "    .dataframe tbody tr th {\n",
       "        vertical-align: top;\n",
       "    }\n",
       "\n",
       "    .dataframe thead th {\n",
       "        text-align: right;\n",
       "    }\n",
       "</style>\n",
       "<table border=\"1\" class=\"dataframe\">\n",
       "  <thead>\n",
       "    <tr style=\"text-align: right;\">\n",
       "      <th></th>\n",
       "      <th>popularity</th>\n",
       "      <th>original_title</th>\n",
       "      <th>director</th>\n",
       "      <th>runtime</th>\n",
       "      <th>release_date</th>\n",
       "      <th>vote_count</th>\n",
       "      <th>vote_average</th>\n",
       "      <th>release_year</th>\n",
       "      <th>budget_adj</th>\n",
       "      <th>revenue_adj</th>\n",
       "      <th>main_genre</th>\n",
       "      <th>main_actor</th>\n",
       "      <th>main_production_company</th>\n",
       "      <th>profit</th>\n",
       "      <th>month</th>\n",
       "      <th>popularity_levels</th>\n",
       "    </tr>\n",
       "  </thead>\n",
       "  <tbody>\n",
       "    <tr>\n",
       "      <th>0</th>\n",
       "      <td>32.985763</td>\n",
       "      <td>Jurassic World</td>\n",
       "      <td>Colin Trevorrow</td>\n",
       "      <td>124</td>\n",
       "      <td>2015-06-09</td>\n",
       "      <td>5562</td>\n",
       "      <td>6.5</td>\n",
       "      <td>2015</td>\n",
       "      <td>1.379999e+08</td>\n",
       "      <td>1.392446e+09</td>\n",
       "      <td>Action</td>\n",
       "      <td>Chris Pratt</td>\n",
       "      <td>Universal Studios</td>\n",
       "      <td>1.254446e+09</td>\n",
       "      <td>6</td>\n",
       "      <td>High</td>\n",
       "    </tr>\n",
       "    <tr>\n",
       "      <th>1</th>\n",
       "      <td>28.419936</td>\n",
       "      <td>Mad Max: Fury Road</td>\n",
       "      <td>George Miller</td>\n",
       "      <td>120</td>\n",
       "      <td>2015-05-13</td>\n",
       "      <td>6185</td>\n",
       "      <td>7.1</td>\n",
       "      <td>2015</td>\n",
       "      <td>1.379999e+08</td>\n",
       "      <td>3.481613e+08</td>\n",
       "      <td>Action</td>\n",
       "      <td>Tom Hardy</td>\n",
       "      <td>Village Roadshow Pictures</td>\n",
       "      <td>2.101614e+08</td>\n",
       "      <td>5</td>\n",
       "      <td>High</td>\n",
       "    </tr>\n",
       "    <tr>\n",
       "      <th>2</th>\n",
       "      <td>13.112507</td>\n",
       "      <td>Insurgent</td>\n",
       "      <td>Robert Schwentke</td>\n",
       "      <td>119</td>\n",
       "      <td>2015-03-18</td>\n",
       "      <td>2480</td>\n",
       "      <td>6.3</td>\n",
       "      <td>2015</td>\n",
       "      <td>1.012000e+08</td>\n",
       "      <td>2.716190e+08</td>\n",
       "      <td>Adventure</td>\n",
       "      <td>Shailene Woodley</td>\n",
       "      <td>Summit Entertainment</td>\n",
       "      <td>1.704191e+08</td>\n",
       "      <td>3</td>\n",
       "      <td>High</td>\n",
       "    </tr>\n",
       "    <tr>\n",
       "      <th>3</th>\n",
       "      <td>11.173104</td>\n",
       "      <td>Star Wars: The Force Awakens</td>\n",
       "      <td>J.J. Abrams</td>\n",
       "      <td>136</td>\n",
       "      <td>2015-12-15</td>\n",
       "      <td>5292</td>\n",
       "      <td>7.5</td>\n",
       "      <td>2015</td>\n",
       "      <td>1.839999e+08</td>\n",
       "      <td>1.902723e+09</td>\n",
       "      <td>Action</td>\n",
       "      <td>Harrison Ford</td>\n",
       "      <td>Lucasfilm</td>\n",
       "      <td>1.718723e+09</td>\n",
       "      <td>12</td>\n",
       "      <td>High</td>\n",
       "    </tr>\n",
       "    <tr>\n",
       "      <th>4</th>\n",
       "      <td>9.335014</td>\n",
       "      <td>Furious 7</td>\n",
       "      <td>James Wan</td>\n",
       "      <td>137</td>\n",
       "      <td>2015-04-01</td>\n",
       "      <td>2947</td>\n",
       "      <td>7.3</td>\n",
       "      <td>2015</td>\n",
       "      <td>1.747999e+08</td>\n",
       "      <td>1.385749e+09</td>\n",
       "      <td>Action</td>\n",
       "      <td>Vin Diesel</td>\n",
       "      <td>Universal Pictures</td>\n",
       "      <td>1.210949e+09</td>\n",
       "      <td>4</td>\n",
       "      <td>High</td>\n",
       "    </tr>\n",
       "  </tbody>\n",
       "</table>\n",
       "</div>"
      ],
      "text/plain": [
       "   popularity                original_title          director  runtime  \\\n",
       "0   32.985763                Jurassic World   Colin Trevorrow      124   \n",
       "1   28.419936            Mad Max: Fury Road     George Miller      120   \n",
       "2   13.112507                     Insurgent  Robert Schwentke      119   \n",
       "3   11.173104  Star Wars: The Force Awakens       J.J. Abrams      136   \n",
       "4    9.335014                     Furious 7         James Wan      137   \n",
       "\n",
       "  release_date  vote_count  vote_average  release_year    budget_adj  \\\n",
       "0   2015-06-09        5562           6.5          2015  1.379999e+08   \n",
       "1   2015-05-13        6185           7.1          2015  1.379999e+08   \n",
       "2   2015-03-18        2480           6.3          2015  1.012000e+08   \n",
       "3   2015-12-15        5292           7.5          2015  1.839999e+08   \n",
       "4   2015-04-01        2947           7.3          2015  1.747999e+08   \n",
       "\n",
       "    revenue_adj main_genre        main_actor    main_production_company  \\\n",
       "0  1.392446e+09     Action       Chris Pratt          Universal Studios   \n",
       "1  3.481613e+08     Action         Tom Hardy  Village Roadshow Pictures   \n",
       "2  2.716190e+08  Adventure  Shailene Woodley       Summit Entertainment   \n",
       "3  1.902723e+09     Action     Harrison Ford                  Lucasfilm   \n",
       "4  1.385749e+09     Action        Vin Diesel         Universal Pictures   \n",
       "\n",
       "         profit  month popularity_levels  \n",
       "0  1.254446e+09      6              High  \n",
       "1  2.101614e+08      5              High  \n",
       "2  1.704191e+08      3              High  \n",
       "3  1.718723e+09     12              High  \n",
       "4  1.210949e+09      4              High  "
      ]
     },
     "execution_count": 235,
     "metadata": {},
     "output_type": "execute_result"
    }
   ],
   "source": [
    "bin_names = ['very low','low','mid','High' ]\n",
    "df=col_levels(df,'popularity',bin_names)\n",
    "df.head()"
   ]
  },
  {
   "cell_type": "markdown",
   "metadata": {},
   "source": [
    "Now we can answer many questions which will be in the EDA section\n",
    "\n"
   ]
  },
  {
   "cell_type": "markdown",
   "metadata": {},
   "source": [
    "<a id='eda'></a>\n",
    "## Exploratory Data Analysis\n",
    "\n",
    "\n",
    "\n",
    "\n"
   ]
  },
  {
   "cell_type": "markdown",
   "metadata": {},
   "source": [
    "Here i will answer some basic question before going to see important relations among the variables\n",
    "\n"
   ]
  },
  {
   "cell_type": "code",
   "execution_count": 282,
   "metadata": {},
   "outputs": [
    {
     "data": {
      "image/png": "[encoded data removed]",
      "text/plain": [
       "<Figure size 700x500 with 1 Axes>"
      ]
     },
     "metadata": {
      "needs_background": "light"
     },
     "output_type": "display_data"
    }
   ],
   "source": [
    "#plotting a histogram of runtime of movies\n",
    "\n",
    "#giving the figure size(width, height)\n",
    "plt.figure(figsize=(7,5), dpi = 100 )\n",
    "\n",
    "#On x-axis \n",
    "plt.xlabel('Runtime of the Movies', fontsize = 15)\n",
    "#On y-axis \n",
    "plt.ylabel('Nos.of Movies in the Dataset', fontsize=15)\n",
    "#Name of the graph\n",
    "plt.title('Runtime of all the movies', fontsize=15)\n",
    "\n",
    "#giving a histogram plot\n",
    "plt.hist(df['runtime'], rwidth = 0.9, bins =35)\n",
    "#displays the plot\n",
    "plt.show()"
   ]
  },
  {
   "cell_type": "markdown",
   "metadata": {},
   "source": [
    "The distribution of the above formed graph is positively skewed or right skewed! Most of the movies are timed between 80 to 120 minutes. Almost 5000 and more no.of movies fall in this criteria."
   ]
  },
  {
   "cell_type": "code",
   "execution_count": 236,
   "metadata": {},
   "outputs": [
    {
     "data": {
      "image/png": "[encoded data removed]",
      "text/plain": [
       "<Figure size 432x288 with 1 Axes>"
      ]
     },
     "metadata": {
      "needs_background": "light"
     },
     "output_type": "display_data"
    }
   ],
   "source": [
    "df_rz['profit'].hist(bins = 15 , alpha = 0.5 , grid = False , xrot = 45);"
   ]
  },
  {
   "cell_type": "markdown",
   "metadata": {},
   "source": [
    "The most frequent directors in each profit category:\n",
    "\n"
   ]
  },
  {
   "cell_type": "code",
   "execution_count": 237,
   "metadata": {},
   "outputs": [
    {
     "data": {
      "text/plain": [
       "profit_levels\n",
       "extreem loss        Renny Harlin\n",
       "loss                 Kevin Smith\n",
       "mid               Clint Eastwood\n",
       "High            Steven Spielberg\n",
       "Name: director, dtype: object"
      ]
     },
     "execution_count": 237,
     "metadata": {},
     "output_type": "execute_result"
    }
   ],
   "source": [
    "df_rz.groupby('profit_levels').agg(lambda x:x.value_counts().index[0])['director']\n"
   ]
  },
  {
   "cell_type": "markdown",
   "metadata": {},
   "source": [
    "Steven Spielberg is the director with most movies that made high profit.\n",
    "\n"
   ]
  },
  {
   "cell_type": "markdown",
   "metadata": {},
   "source": [
    "Here you can find the most frequent genre in each profit category:\n"
   ]
  },
  {
   "cell_type": "code",
   "execution_count": 238,
   "metadata": {},
   "outputs": [
    {
     "data": {
      "text/plain": [
       "profit_levels\n",
       "extreem loss     Drama\n",
       "loss             Drama\n",
       "mid             Comedy\n",
       "High            Action\n",
       "Name: main_genre, dtype: object"
      ]
     },
     "execution_count": 238,
     "metadata": {},
     "output_type": "execute_result"
    }
   ],
   "source": [
    "df_rz.groupby('profit_levels').agg(lambda x:x.value_counts().index[0])['main_genre']\n"
   ]
  },
  {
   "cell_type": "markdown",
   "metadata": {},
   "source": [
    "we see here that high profit movies will likly be action movies\n",
    "\n"
   ]
  },
  {
   "cell_type": "markdown",
   "metadata": {},
   "source": [
    "Here you can find the years of the biggest losses and largest profits:\n",
    "\n"
   ]
  },
  {
   "cell_type": "code",
   "execution_count": 239,
   "metadata": {},
   "outputs": [
    {
     "data": {
      "text/plain": [
       "profit_levels\n",
       "extreem loss    2009\n",
       "loss            2011\n",
       "mid             2005\n",
       "High            2014\n",
       "Name: release_year, dtype: int64"
      ]
     },
     "execution_count": 239,
     "metadata": {},
     "output_type": "execute_result"
    }
   ],
   "source": [
    "df_rz.groupby('profit_levels').agg(lambda x:x.value_counts().index[0])['release_year']\n"
   ]
  },
  {
   "cell_type": "markdown",
   "metadata": {},
   "source": [
    "The year 2014 is the year with the most profit movies\n",
    "\n"
   ]
  },
  {
   "cell_type": "markdown",
   "metadata": {},
   "source": [
    "### Relationship between Important Variables\n"
   ]
  },
  {
   "cell_type": "code",
   "execution_count": 243,
   "metadata": {},
   "outputs": [
    {
     "data": {
      "image/png": "[encoded data removed]",
      "text/plain": [
       "<Figure size 432x288 with 1 Axes>"
      ]
     },
     "metadata": {
      "needs_background": "light"
     },
     "output_type": "display_data"
    }
   ],
   "source": [
    "df_rz.plot.scatter(x = 'budget_adj', y = 'revenue_adj');\n",
    "plt.title(\"Budget vs revenue\");\n",
    "plt.xlabel(\"Budget\");\n",
    "plt.ylabel(\"Revenue\");"
   ]
  },
  {
   "cell_type": "markdown",
   "metadata": {},
   "source": [
    "We can say that investment seems to affect returns positively for a movie (posstive correlation).\n",
    "\n"
   ]
  },
  {
   "cell_type": "code",
   "execution_count": 244,
   "metadata": {},
   "outputs": [
    {
     "data": {
      "image/png": "[encoded data removed]",
      "text/plain": [
       "<Figure size 432x288 with 1 Axes>"
      ]
     },
     "metadata": {
      "needs_background": "light"
     },
     "output_type": "display_data"
    }
   ],
   "source": [
    "df_rz.plot.scatter(x = 'budget_adj', y = 'popularity');\n",
    "plt.title(\"Budget vs popularity\");\n",
    "plt.xlabel(\"Budget\");\n",
    "plt.ylabel(\"popularity\");"
   ]
  },
  {
   "cell_type": "markdown",
   "metadata": {},
   "source": [
    "As budget increases, the popularity seems to show an increasing trend.\n",
    "\n"
   ]
  },
  {
   "cell_type": "code",
   "execution_count": 245,
   "metadata": {},
   "outputs": [
    {
     "data": {
      "image/png": "[encoded data removed]",
      "text/plain": [
       "<Figure size 432x288 with 1 Axes>"
      ]
     },
     "metadata": {
      "needs_background": "light"
     },
     "output_type": "display_data"
    }
   ],
   "source": [
    "df_rz.plot.scatter(x = 'runtime', y = 'revenue_adj');\n",
    "plt.title(\"Runtime vs revenue\");\n",
    "plt.xlabel(\"Runtime\");\n",
    "plt.ylabel(\"Revenue\");"
   ]
  },
  {
   "cell_type": "markdown",
   "metadata": {},
   "source": [
    "We observe that movies close to a runtime of 130 minutes are possible to register higher returns.\n",
    "\n"
   ]
  },
  {
   "cell_type": "markdown",
   "metadata": {},
   "source": [
    "### Research Question 1 (Which year has the most popular movies?)\n"
   ]
  },
  {
   "cell_type": "code",
   "execution_count": 256,
   "metadata": {
    "collapsed": true
   },
   "outputs": [
    {
     "data": {
      "image/png": "[encoded data removed]",
      "text/plain": [
       "<Figure size 1800x1800 with 1 Axes>"
      ]
     },
     "metadata": {
      "needs_background": "light"
     },
     "output_type": "display_data"
    }
   ],
   "source": [
    "yvpm=df.groupby('release_year')['popularity'].mean()\n",
    "yvpm.plot(kind=\"barh\",figsize=(25,25),color = 'teal' );\n",
    "plt.title(\"year vs popularity bar chart\");\n",
    "plt.ylabel(\"relase year\");\n",
    "plt.xlabel(\"popularity \");\n"
   ]
  },
  {
   "cell_type": "markdown",
   "metadata": {},
   "source": [
    "from the graph plot of (2015) and (2014) are the years with the most popular movies .\n",
    "\n"
   ]
  },
  {
   "cell_type": "markdown",
   "metadata": {},
   "source": [
    "### Research Question 2 (What are the characteristics associated high profit movies ?)\n"
   ]
  },
  {
   "cell_type": "code",
   "execution_count": 257,
   "metadata": {
    "collapsed": true
   },
   "outputs": [
    {
     "data": {
      "text/html": [
       "<div>\n",
       "<style scoped>\n",
       "    .dataframe tbody tr th:only-of-type {\n",
       "        vertical-align: middle;\n",
       "    }\n",
       "\n",
       "    .dataframe tbody tr th {\n",
       "        vertical-align: top;\n",
       "    }\n",
       "\n",
       "    .dataframe thead th {\n",
       "        text-align: right;\n",
       "    }\n",
       "</style>\n",
       "<table border=\"1\" class=\"dataframe\">\n",
       "  <thead>\n",
       "    <tr style=\"text-align: right;\">\n",
       "      <th></th>\n",
       "      <th>popularity</th>\n",
       "      <th>original_title</th>\n",
       "      <th>director</th>\n",
       "      <th>runtime</th>\n",
       "      <th>release_date</th>\n",
       "      <th>vote_count</th>\n",
       "      <th>vote_average</th>\n",
       "      <th>release_year</th>\n",
       "      <th>budget_adj</th>\n",
       "      <th>revenue_adj</th>\n",
       "      <th>main_genre</th>\n",
       "      <th>main_actor</th>\n",
       "      <th>main_production_company</th>\n",
       "      <th>profit</th>\n",
       "      <th>month</th>\n",
       "      <th>profit_levels</th>\n",
       "    </tr>\n",
       "  </thead>\n",
       "  <tbody>\n",
       "    <tr>\n",
       "      <th>0</th>\n",
       "      <td>32.985763</td>\n",
       "      <td>Jurassic World</td>\n",
       "      <td>Colin Trevorrow</td>\n",
       "      <td>124</td>\n",
       "      <td>2015-06-09</td>\n",
       "      <td>5562</td>\n",
       "      <td>6.5</td>\n",
       "      <td>2015</td>\n",
       "      <td>1.379999e+08</td>\n",
       "      <td>1.392446e+09</td>\n",
       "      <td>Action</td>\n",
       "      <td>Chris Pratt</td>\n",
       "      <td>Universal Studios</td>\n",
       "      <td>1.254446e+09</td>\n",
       "      <td>6</td>\n",
       "      <td>High</td>\n",
       "    </tr>\n",
       "    <tr>\n",
       "      <th>1</th>\n",
       "      <td>28.419936</td>\n",
       "      <td>Mad Max: Fury Road</td>\n",
       "      <td>George Miller</td>\n",
       "      <td>120</td>\n",
       "      <td>2015-05-13</td>\n",
       "      <td>6185</td>\n",
       "      <td>7.1</td>\n",
       "      <td>2015</td>\n",
       "      <td>1.379999e+08</td>\n",
       "      <td>3.481613e+08</td>\n",
       "      <td>Action</td>\n",
       "      <td>Tom Hardy</td>\n",
       "      <td>Village Roadshow Pictures</td>\n",
       "      <td>2.101614e+08</td>\n",
       "      <td>5</td>\n",
       "      <td>High</td>\n",
       "    </tr>\n",
       "    <tr>\n",
       "      <th>2</th>\n",
       "      <td>13.112507</td>\n",
       "      <td>Insurgent</td>\n",
       "      <td>Robert Schwentke</td>\n",
       "      <td>119</td>\n",
       "      <td>2015-03-18</td>\n",
       "      <td>2480</td>\n",
       "      <td>6.3</td>\n",
       "      <td>2015</td>\n",
       "      <td>1.012000e+08</td>\n",
       "      <td>2.716190e+08</td>\n",
       "      <td>Adventure</td>\n",
       "      <td>Shailene Woodley</td>\n",
       "      <td>Summit Entertainment</td>\n",
       "      <td>1.704191e+08</td>\n",
       "      <td>3</td>\n",
       "      <td>High</td>\n",
       "    </tr>\n",
       "    <tr>\n",
       "      <th>3</th>\n",
       "      <td>11.173104</td>\n",
       "      <td>Star Wars: The Force Awakens</td>\n",
       "      <td>J.J. Abrams</td>\n",
       "      <td>136</td>\n",
       "      <td>2015-12-15</td>\n",
       "      <td>5292</td>\n",
       "      <td>7.5</td>\n",
       "      <td>2015</td>\n",
       "      <td>1.839999e+08</td>\n",
       "      <td>1.902723e+09</td>\n",
       "      <td>Action</td>\n",
       "      <td>Harrison Ford</td>\n",
       "      <td>Lucasfilm</td>\n",
       "      <td>1.718723e+09</td>\n",
       "      <td>12</td>\n",
       "      <td>High</td>\n",
       "    </tr>\n",
       "    <tr>\n",
       "      <th>4</th>\n",
       "      <td>9.335014</td>\n",
       "      <td>Furious 7</td>\n",
       "      <td>James Wan</td>\n",
       "      <td>137</td>\n",
       "      <td>2015-04-01</td>\n",
       "      <td>2947</td>\n",
       "      <td>7.3</td>\n",
       "      <td>2015</td>\n",
       "      <td>1.747999e+08</td>\n",
       "      <td>1.385749e+09</td>\n",
       "      <td>Action</td>\n",
       "      <td>Vin Diesel</td>\n",
       "      <td>Universal Pictures</td>\n",
       "      <td>1.210949e+09</td>\n",
       "      <td>4</td>\n",
       "      <td>High</td>\n",
       "    </tr>\n",
       "  </tbody>\n",
       "</table>\n",
       "</div>"
      ],
      "text/plain": [
       "   popularity                original_title          director  runtime  \\\n",
       "0   32.985763                Jurassic World   Colin Trevorrow      124   \n",
       "1   28.419936            Mad Max: Fury Road     George Miller      120   \n",
       "2   13.112507                     Insurgent  Robert Schwentke      119   \n",
       "3   11.173104  Star Wars: The Force Awakens       J.J. Abrams      136   \n",
       "4    9.335014                     Furious 7         James Wan      137   \n",
       "\n",
       "  release_date  vote_count  vote_average  release_year    budget_adj  \\\n",
       "0   2015-06-09        5562           6.5          2015  1.379999e+08   \n",
       "1   2015-05-13        6185           7.1          2015  1.379999e+08   \n",
       "2   2015-03-18        2480           6.3          2015  1.012000e+08   \n",
       "3   2015-12-15        5292           7.5          2015  1.839999e+08   \n",
       "4   2015-04-01        2947           7.3          2015  1.747999e+08   \n",
       "\n",
       "    revenue_adj main_genre        main_actor    main_production_company  \\\n",
       "0  1.392446e+09     Action       Chris Pratt          Universal Studios   \n",
       "1  3.481613e+08     Action         Tom Hardy  Village Roadshow Pictures   \n",
       "2  2.716190e+08  Adventure  Shailene Woodley       Summit Entertainment   \n",
       "3  1.902723e+09     Action     Harrison Ford                  Lucasfilm   \n",
       "4  1.385749e+09     Action        Vin Diesel         Universal Pictures   \n",
       "\n",
       "         profit  month profit_levels  \n",
       "0  1.254446e+09      6          High  \n",
       "1  2.101614e+08      5          High  \n",
       "2  1.704191e+08      3          High  \n",
       "3  1.718723e+09     12          High  \n",
       "4  1.210949e+09      4          High  "
      ]
     },
     "execution_count": 257,
     "metadata": {},
     "output_type": "execute_result"
    }
   ],
   "source": [
    "df_m = df_rz.query('profit_levels == \"High\"')\n",
    "df_m.head()\n"
   ]
  },
  {
   "cell_type": "code",
   "execution_count": 258,
   "metadata": {},
   "outputs": [
    {
     "data": {
      "text/html": [
       "<div>\n",
       "<style scoped>\n",
       "    .dataframe tbody tr th:only-of-type {\n",
       "        vertical-align: middle;\n",
       "    }\n",
       "\n",
       "    .dataframe tbody tr th {\n",
       "        vertical-align: top;\n",
       "    }\n",
       "\n",
       "    .dataframe thead th {\n",
       "        text-align: right;\n",
       "    }\n",
       "</style>\n",
       "<table border=\"1\" class=\"dataframe\">\n",
       "  <thead>\n",
       "    <tr style=\"text-align: right;\">\n",
       "      <th></th>\n",
       "      <th>popularity</th>\n",
       "      <th>runtime</th>\n",
       "      <th>vote_count</th>\n",
       "      <th>vote_average</th>\n",
       "      <th>release_year</th>\n",
       "      <th>budget_adj</th>\n",
       "      <th>revenue_adj</th>\n",
       "      <th>profit</th>\n",
       "      <th>month</th>\n",
       "    </tr>\n",
       "  </thead>\n",
       "  <tbody>\n",
       "    <tr>\n",
       "      <th>count</th>\n",
       "      <td>951.000000</td>\n",
       "      <td>951.000000</td>\n",
       "      <td>951.000000</td>\n",
       "      <td>951.000000</td>\n",
       "      <td>951.000000</td>\n",
       "      <td>9.510000e+02</td>\n",
       "      <td>9.510000e+02</td>\n",
       "      <td>9.510000e+02</td>\n",
       "      <td>951.000000</td>\n",
       "    </tr>\n",
       "    <tr>\n",
       "      <th>mean</th>\n",
       "      <td>2.247750</td>\n",
       "      <td>116.398528</td>\n",
       "      <td>1281.132492</td>\n",
       "      <td>6.495794</td>\n",
       "      <td>1999.129338</td>\n",
       "      <td>7.832576e+07</td>\n",
       "      <td>4.015727e+08</td>\n",
       "      <td>3.232469e+08</td>\n",
       "      <td>7.497371</td>\n",
       "    </tr>\n",
       "    <tr>\n",
       "      <th>std</th>\n",
       "      <td>2.349182</td>\n",
       "      <td>22.658424</td>\n",
       "      <td>1362.869723</td>\n",
       "      <td>0.699340</td>\n",
       "      <td>12.984569</td>\n",
       "      <td>5.712787e+07</td>\n",
       "      <td>2.988253e+08</td>\n",
       "      <td>2.787612e+08</td>\n",
       "      <td>3.232034</td>\n",
       "    </tr>\n",
       "    <tr>\n",
       "      <th>min</th>\n",
       "      <td>0.131526</td>\n",
       "      <td>69.000000</td>\n",
       "      <td>13.000000</td>\n",
       "      <td>4.200000</td>\n",
       "      <td>1960.000000</td>\n",
       "      <td>2.248029e+02</td>\n",
       "      <td>1.169945e+08</td>\n",
       "      <td>1.090277e+08</td>\n",
       "      <td>1.000000</td>\n",
       "    </tr>\n",
       "    <tr>\n",
       "      <th>25%</th>\n",
       "      <td>1.022218</td>\n",
       "      <td>99.000000</td>\n",
       "      <td>356.500000</td>\n",
       "      <td>6.000000</td>\n",
       "      <td>1992.000000</td>\n",
       "      <td>3.343217e+07</td>\n",
       "      <td>2.110925e+08</td>\n",
       "      <td>1.500418e+08</td>\n",
       "      <td>5.000000</td>\n",
       "    </tr>\n",
       "    <tr>\n",
       "      <th>50%</th>\n",
       "      <td>1.641739</td>\n",
       "      <td>113.000000</td>\n",
       "      <td>774.000000</td>\n",
       "      <td>6.500000</td>\n",
       "      <td>2002.000000</td>\n",
       "      <td>6.584719e+07</td>\n",
       "      <td>3.082597e+08</td>\n",
       "      <td>2.264043e+08</td>\n",
       "      <td>7.000000</td>\n",
       "    </tr>\n",
       "    <tr>\n",
       "      <th>75%</th>\n",
       "      <td>2.688673</td>\n",
       "      <td>129.000000</td>\n",
       "      <td>1708.500000</td>\n",
       "      <td>7.000000</td>\n",
       "      <td>2010.000000</td>\n",
       "      <td>1.115397e+08</td>\n",
       "      <td>4.888207e+08</td>\n",
       "      <td>3.915575e+08</td>\n",
       "      <td>11.000000</td>\n",
       "    </tr>\n",
       "    <tr>\n",
       "      <th>max</th>\n",
       "      <td>32.985763</td>\n",
       "      <td>248.000000</td>\n",
       "      <td>9767.000000</td>\n",
       "      <td>8.300000</td>\n",
       "      <td>2015.000000</td>\n",
       "      <td>3.683713e+08</td>\n",
       "      <td>2.827124e+09</td>\n",
       "      <td>2.750137e+09</td>\n",
       "      <td>12.000000</td>\n",
       "    </tr>\n",
       "  </tbody>\n",
       "</table>\n",
       "</div>"
      ],
      "text/plain": [
       "       popularity     runtime   vote_count  vote_average  release_year  \\\n",
       "count  951.000000  951.000000   951.000000    951.000000    951.000000   \n",
       "mean     2.247750  116.398528  1281.132492      6.495794   1999.129338   \n",
       "std      2.349182   22.658424  1362.869723      0.699340     12.984569   \n",
       "min      0.131526   69.000000    13.000000      4.200000   1960.000000   \n",
       "25%      1.022218   99.000000   356.500000      6.000000   1992.000000   \n",
       "50%      1.641739  113.000000   774.000000      6.500000   2002.000000   \n",
       "75%      2.688673  129.000000  1708.500000      7.000000   2010.000000   \n",
       "max     32.985763  248.000000  9767.000000      8.300000   2015.000000   \n",
       "\n",
       "         budget_adj   revenue_adj        profit       month  \n",
       "count  9.510000e+02  9.510000e+02  9.510000e+02  951.000000  \n",
       "mean   7.832576e+07  4.015727e+08  3.232469e+08    7.497371  \n",
       "std    5.712787e+07  2.988253e+08  2.787612e+08    3.232034  \n",
       "min    2.248029e+02  1.169945e+08  1.090277e+08    1.000000  \n",
       "25%    3.343217e+07  2.110925e+08  1.500418e+08    5.000000  \n",
       "50%    6.584719e+07  3.082597e+08  2.264043e+08    7.000000  \n",
       "75%    1.115397e+08  4.888207e+08  3.915575e+08   11.000000  \n",
       "max    3.683713e+08  2.827124e+09  2.750137e+09   12.000000  "
      ]
     },
     "execution_count": 258,
     "metadata": {},
     "output_type": "execute_result"
    }
   ],
   "source": [
    "df_m.describe()\n"
   ]
  },
  {
   "cell_type": "markdown",
   "metadata": {},
   "source": [
    "\n",
    "Here we see that :-\n",
    "\n",
    "The mean run time of the high profit movies is 116 min\n",
    "\n",
    "The mean budget for movies with high profit movies is 7.827280e+07\n",
    "\n",
    "More information will be disscussed in the coming cells"
   ]
  },
  {
   "cell_type": "code",
   "execution_count": 259,
   "metadata": {},
   "outputs": [],
   "source": [
    "s=df_m['main_genre'].value_counts()\n"
   ]
  },
  {
   "cell_type": "code",
   "execution_count": 265,
   "metadata": {},
   "outputs": [
    {
     "data": {
      "image/png": "[encoded data removed]",
      "text/plain": [
       "<Figure size 1080x1080 with 1 Axes>"
      ]
     },
     "metadata": {
      "needs_background": "light"
     },
     "output_type": "display_data"
    }
   ],
   "source": [
    "s.plot(kind='bar',figsize=(15,15),color = 'teal' )\n",
    "plt.title(\"movies genres according to profit\");\n",
    "plt.ylabel(\"profit\");\n",
    "plt.xlabel(\"movies \");"
   ]
  },
  {
   "cell_type": "markdown",
   "metadata": {},
   "source": [
    "Here we see that the top four genres of the high profit movies are : Action , comedy , Drama , Adventrue\n",
    "\n"
   ]
  },
  {
   "cell_type": "code",
   "execution_count": 266,
   "metadata": {},
   "outputs": [],
   "source": [
    "j=df_m['main_production_company'][:50].value_counts()\n"
   ]
  },
  {
   "cell_type": "code",
   "execution_count": 269,
   "metadata": {},
   "outputs": [
    {
     "data": {
      "image/png": "[encoded data removed]",
      "text/plain": [
       "<Figure size 1080x1080 with 1 Axes>"
      ]
     },
     "metadata": {
      "needs_background": "light"
     },
     "output_type": "display_data"
    }
   ],
   "source": [
    "j.plot(kind='barh',figsize=(15,15),color = 'teal');\n",
    "plt.title(\"production companies according to profit\");\n",
    "plt.ylabel(\"profit\");\n",
    "plt.xlabel(\"production companies\");"
   ]
  },
  {
   "cell_type": "markdown",
   "metadata": {},
   "source": [
    "Here we see that the top four production companies of the high profit movies are : Twentieth century fox film corporation , universal pictures , paramount pictures , walt disney pictures"
   ]
  },
  {
   "cell_type": "markdown",
   "metadata": {},
   "source": [
    "### Research Question 3 (Find which movie is most favoured by people)\n"
   ]
  },
  {
   "cell_type": "code",
   "execution_count": 270,
   "metadata": {},
   "outputs": [
    {
     "data": {
      "image/png": "[encoded data removed]",
      "text/plain": [
       "<Figure size 1800x1800 with 1 Axes>"
      ]
     },
     "metadata": {
      "needs_background": "light"
     },
     "output_type": "display_data"
    }
   ],
   "source": [
    "e=df_rz.groupby('original_title')['popularity'].mean()[:50];\n",
    "e.plot(kind=\"barh\",figsize=(25,25),color = 'teal');\n",
    "plt.title(\"moviesfavoured by people\");\n",
    "plt.ylabel(\"movies\");\n",
    "plt.xlabel(\"popularity \");"
   ]
  },
  {
   "cell_type": "markdown",
   "metadata": {},
   "source": [
    "\n",
    "From the above plot :\n",
    "The most favoured movie by the people is 12 years a slave"
   ]
  },
  {
   "cell_type": "markdown",
   "metadata": {},
   "source": [
    "<a id='conclusions'></a>\n",
    "## Conclusions\n",
    "\n",
    "After investigating The data set we find that :\n",
    "\n",
    "Steven Spielberg is the director with most movies that made high profit.\n",
    "\n",
    "Renny Harlin is the director with most movies that were big losses.\n",
    "\n",
    "The most frequent genre in high profit movies is action while the most fequent genre in losses is drama.\n",
    "\n",
    "The majority of high profit movies are action, comedy, drama or adventure.\n",
    "\n",
    "The average runtime of a high profit movie is 116 minutes.\n",
    "\n",
    "The most favoured movie by the people is 12 years a slave.\n",
    "\n",
    "Here we see that the top four production companies of the high profit movies are : Twentieth century fox film corporation , universal pictures , paramount pictures , walt disney pictures.\n",
    "\n",
    "The average budget for movies with high profit movies is 7.827280e+07\n",
    "from the graph plot of (2015) and (2014) are the years with the most popular movies .\n",
    "\n",
    "Here are the years of the biggest losses and largest profits which are 2009,2014 respectivly.\n",
    "\n",
    "As budget increases, the popularity seems to show an increasing trend.\n",
    "\n",
    "We can say that investment seems to affect returns positively for a movie (posstive correlation).\n",
    "\n",
    "Limitations The dataset has missing values for the revenue ,budget and profit.\n",
    "\n",
    "The charachteristics of the movie can not guarantee the success or the faliure of it.\n",
    "\n",
    "I dropped some rows maybe it will have an affect on insights\n",
    "\n",
    "The drama genre is very frequent so they appear in the most popular, least popular and different profit categories of the movies.\n",
    "\n"
   ]
  }
 ],
 "metadata": {
  "kernelspec": {
   "display_name": "Python 3",
   "language": "python",
   "name": "python3"
  },
  "language_info": {
   "codemirror_mode": {
    "name": "ipython",
    "version": 3
   },
   "file_extension": ".py",
   "mimetype": "text/x-python",
   "name": "python",
   "nbconvert_exporter": "python",
   "pygments_lexer": "ipython3",
   "version": "3.9.7"
  }
 },
 "nbformat": 4,
 "nbformat_minor": 2
}
